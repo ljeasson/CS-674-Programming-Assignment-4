{
 "cells": [
  {
   "cell_type": "code",
   "execution_count": 1,
   "metadata": {},
   "outputs": [],
   "source": [
    "# Imports\n",
    "import collections\n",
    "import copy\n",
    "import math\n",
    "import numpy as np\n",
    "import scipy.signal\n",
    "\n",
    "from contextlib import suppress\n",
    "from math import e, log, pi, sqrt\n",
    "from numpy import sin, cos\n",
    "from matplotlib import pyplot as plt\n",
    "from numpy.fft import fft2, ifft2, fftshift, ifftshift\n",
    "from PGM import PGMImage\n",
    "from qcore.asserts import assert_eq\n",
    "\n",
    "adjust = lambda pixels: fftshift(np.log(np.abs(pixels)))\n",
    "\n",
    "def center(spectrum: np.ndarray):\n",
    "    for (i, j) in np.ndindex(spectrum.shape):\n",
    "        spectrum[i][j] *= (-1 ** (i + j))\n",
    "    return spectrum\n",
    "\n",
    "is_power_of_two = lambda x: bool((x & (x - 1)) == 0)\n",
    "\n",
    "next_power_of_two = lambda x: 1 if x == 0 else 2 ** math.ceil(math.log2(x))\n",
    "\n",
    "def see_spectrum(H: np.ndarray, fig=plt):\n",
    "    fig.cla()\n",
    "    fig.imshow(np.abs(H), cmap='gray')\n",
    "\n",
    "def see_image(f: np.ndarray, fig=plt, clip=False):\n",
    "    fig.cla()\n",
    "    # Fail if there are non-negligible parasitic imaginary components in\n",
    "    # the spatial domain\n",
    "    # assert all(pxl.imag <= 1e-5 for pxl in np.nditer(f))\n",
    "    with suppress(np.ComplexWarning):\n",
    "        fig.imshow(f.astype(float), cmap='gray')"
   ]
  },
  {
   "cell_type": "code",
   "execution_count": null,
   "metadata": {},
   "outputs": [],
   "source": [
    "# Experiment 1\n",
    "extract = \"pattern\"\n",
    "p = PGMImage('boy_noisy.pgm')\n",
    "\n",
    "F = np.log(fftshift(fft2(p.pixels)))\n",
    "\n",
    "cx, cy = (np.array(F.shape) / 2).astype(int)\n",
    "\n",
    "sz = 28\n",
    "\n",
    "F_copy = copy.deepcopy(F)\n",
    "\n",
    "if extract == \"image\":\n",
    "    temp = F[cy-sz:cy+sz, cx-sz:cx+sz]\n",
    "    F = np.zeros(F.shape).astype(complex)\n",
    "    F[cy-sz:cy+sz, cx-sz:cx+sz] = temp\n",
    "elif extract == \"pattern\":\n",
    "    F[cy-sz:cy+sz, cx-sz:cx+sz] = np.zeros((sz*2, sz*2))\n",
    "\n",
    "# see_spectrum(F)\n",
    "\n",
    "g = ifft2(ifftshift(e ** F))\n",
    "see_image(g)"
   ]
  }
 ],
 "metadata": {
  "kernelspec": {
   "display_name": "Python 3",
   "language": "python",
   "name": "python3"
  },
  "language_info": {
   "codemirror_mode": {
    "name": "ipython",
    "version": 3
   },
   "file_extension": ".py",
   "mimetype": "text/x-python",
   "name": "python",
   "nbconvert_exporter": "python",
   "pygments_lexer": "ipython3",
   "version": "3.7.4"
  }
 },
 "nbformat": 4,
 "nbformat_minor": 2
}
